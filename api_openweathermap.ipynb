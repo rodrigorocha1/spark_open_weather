{
  "cells": [
    {
      "cell_type": "markdown",
      "metadata": {
        "id": "kT1ExmSTC0I3"
      },
      "source": [
        "\n",
        "\n",
        "## Problemas a serem resolvidos:\n",
        "\n",
        "- Obter a temperatura atual para uma lista de cidades do seu estado e armazenar os resultados em uma tabela SQL.\n",
        "\n",
        "- Analisar a temperatura máxima e mínima para cada cidade em um período de 30 dias e exibir os resultados em uma tabela SQL.\n",
        "\n",
        "- Determinar a cidade com a maior diferença entre a temperatura máxima e mínima e exibir o resultado em uma tabela SQL.\n",
        "\n",
        "- Identificar a cidade mais quente e a cidade mais fria em um período de 30 dias e exibir os resultados em uma tabela SQL.\n",
        "\n",
        "- Calcular a média da temperatura para cada dia em um período de 30 dias e exibir os resultados em uma tabela SQL.\n",
        "\n",
        "- Identificar as cidades com as maiores e menores variações de temperatura em um período de 30 dias e exibir os resultados em uma tabela SQL.\n",
        "\n",
        "- Obter a previsão do tempo para uma lista de cidades do seu estado nos próximos 7 dias e armazenar os resultados em uma tabela SQL.\n",
        "\n",
        "- Identificar a cidade com a maior quantidade de dias chuvosos em um período de 30 dias e exibir o resultado em uma tabela SQL.\n",
        "\n",
        "- Calcular a média de umidade para cada dia em um período de 30 dias e exibir os resultados em uma tabela SQL.\n",
        "\n",
        "- Identificar as cidades com a maior e menor umidade média em um período de 30 dias e exibir os resultados em uma tabela SQL.\n",
        "\n"
      ]
    },
    {
      "cell_type": "code",
      "execution_count": null,
      "metadata": {
        "id": "UU-z2heIBwPD"
      },
      "outputs": [],
      "source": []
    }
  ],
  "metadata": {
    "colab": {
      "provenance": []
    },
    "kernelspec": {
      "display_name": "Python 3",
      "name": "python3"
    },
    "language_info": {
      "name": "python"
    }
  },
  "nbformat": 4,
  "nbformat_minor": 0
}
